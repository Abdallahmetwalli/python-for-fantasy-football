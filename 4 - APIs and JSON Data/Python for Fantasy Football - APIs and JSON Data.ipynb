{
 "cells": [
  {
   "cell_type": "markdown",
   "metadata": {},
   "source": [
    "# Python for Fantasy Football - APIs and JSON Data\n",
    "\n",
    "Welcome to part 4 of the Python for Fantasy Football series! As always, if you missed any of the previous parts, go back and check those out first before reading any further. In part 3 I mentioned that your first port of call when looking to access data on a website should be the API (if there is one). I said last week that I wasn't going to scrape the FPL site, but thanks to all the excellent feedback (keep it coming!) I have since found out that the site does in fact have an API. There is no documentation and the API isn't publicly listed anywhere as far as I can tell, which makes me think that it's not primarily intended for public use. However, there are already plenty of guides around showing people how to access it, so since we will be using JSON files later in the series I thought I would do a quick run-through of how to do so in Python. It goes without saying that this data should not be used commercially, as stated in the site terms and conditions.\n",
    "\n",
    "## Introduction to JSON\n",
    "JSON (JavaScript Object Notation) is a text file format designed to facilitate the transmission of data from server to browser. Whilst initially intended to be used with JavaScript, there are libraries for creating and parsing JSON data in many of the most popular programming languages. The structure is similar to a nested Python dictionary, as you can see from the example below (via [Wikipedia](https://en.wikipedia.org/wiki/JSON)):\n",
    "\n",
    "{\n",
    "  \"firstName\": \"John\",\n",
    "  \"lastName\": \"Smith\",\n",
    "  \"isAlive\": true,\n",
    "  \"age\": 27,\n",
    "  \"address\": {\n",
    "    \"streetAddress\": \"21 2nd Street\",\n",
    "    \"city\": \"New York\",\n",
    "    \"state\": \"NY\",\n",
    "    \"postalCode\": \"10021-3100\"\n",
    "  },\n",
    "  \"phoneNumbers\": [\n",
    "    {\n",
    "      \"type\": \"home\",\n",
    "      \"number\": \"212 555-1234\"\n",
    "    },\n",
    "    {\n",
    "      \"type\": \"office\",\n",
    "      \"number\": \"646 555-4567\"\n",
    "    },\n",
    "    {\n",
    "      \"type\": \"mobile\",\n",
    "      \"number\": \"123 456-7890\"\n",
    "    }\n",
    "  ],\n",
    "  \"children\": [],\n",
    "  \"spouse\": null\n",
    "}\n",
    "\n",
    "The FPL API has several JSON files that you can access, provided that you are logged in to the site (see [here](https://www.oddsonfpl.com/how-to-get-data-from-the-fantasy-premier-league-api/) for an exhaustive list; note that you will need to be a league member or have authorisation to view some of these). I'll go through a brief run-down of how to read JSON data into Python and access the pieces of information you want, showing you a few examples from the FPL API. To finish, I'll look at player ownership in a mini-league to give an idea of what you can do with the data.\n",
    "\n",
    "## Loading JSON files into Python\n",
    "To load JSON files into Python, we can use the 'json' library. We'll also need to use 'requests' first to grab the data from the FPL API. The code below shows a standard function that you should be able to use to get any JSON file from the web, provided you have a link to it."
   ]
  },
  {
   "cell_type": "code",
   "execution_count": 140,
   "metadata": {},
   "outputs": [
    {
     "name": "stdout",
     "output_type": "stream",
     "text": [
      "['elements', 'total-players', 'player', 'element_types', 'watched', 'next-event', 'phases', 'stats', 'game-settings', 'current-event', 'teams', 'stats_options', 'last-entry-event', 'entry', 'next_event_fixtures', 'events']\n"
     ]
    }
   ],
   "source": [
    "import pandas as pd\n",
    "import json\n",
    "import requests\n",
    "from pandas.io.json import json_normalize\n",
    "import seaborn as sns\n",
    "from matplotlib import pyplot as plt\n",
    "\n",
    "# Define a function to get info from the FPL API and save to the specified file_path\n",
    "# It might be a good idea to navigate to the link in a browser to get an idea of what the data looks like\n",
    "def get_json(file_path):\n",
    "    r = requests.get('https://fantasy.premierleague.com/drf/bootstrap')\n",
    "    jsonResponse = r.json()\n",
    "    with open(file_path, 'w') as outfile:\n",
    "        json.dump(jsonResponse, outfile)\n",
    "\n",
    "# Run the function and choose where to save the json file\n",
    "get_json('D:/Tom/Downloads/fpl.json')\n",
    "\n",
    "# Open the json file and print a list of the keys\n",
    "with open('D:/Tom/Downloads/fpl.json') as json_data:\n",
    "    d = json.load(json_data)\n",
    "    print(list(d.keys()))"
   ]
  },
  {
   "cell_type": "markdown",
   "metadata": {},
   "source": [
    "## Parsing JSON\n",
    "We can see that this file has several keys, each corresponding to a different subset of the data. Feel free to play around with each of these if you like, but I’ll give you a few examples of the most useful parts here. To get player information, we need to access the ‘elements’ key. We could write some code to parse this out manually, but luckily the ‘json_normalize’ function makes things a lot easier for us:"
   ]
  },
  {
   "cell_type": "code",
   "execution_count": 141,
   "metadata": {},
   "outputs": [
    {
     "name": "stdout",
     "output_type": "stream",
     "text": [
      "Columns:\n",
      " ['assists', 'bonus', 'bps', 'chance_of_playing_next_round', 'chance_of_playing_this_round', 'clean_sheets', 'code', 'cost_change_event', 'cost_change_event_fall', 'cost_change_start', 'cost_change_start_fall', 'creativity', 'dreamteam_count', 'ea_index', 'element_type', 'ep_next', 'ep_this', 'event_points', 'first_name', 'form', 'goals_conceded', 'goals_scored', 'ict_index', 'id', 'in_dreamteam', 'influence', 'loaned_in', 'loaned_out', 'loans_in', 'loans_out', 'minutes', 'news', 'news_added', 'now_cost', 'own_goals', 'penalties_missed', 'penalties_saved', 'photo', 'points_per_game', 'red_cards', 'saves', 'second_name', 'selected_by_percent', 'special', 'squad_number', 'status', 'team', 'team_code', 'threat', 'total_points', 'transfers_in', 'transfers_in_event', 'transfers_out', 'transfers_out_event', 'value_form', 'value_season', 'web_name', 'yellow_cards'] \n",
      "\n",
      "Dataframe Head:\n",
      "    assists  bonus  bps  chance_of_playing_next_round  \\\n",
      "0        0      3  130                         100.0   \n",
      "1        0      0   43                           NaN   \n",
      "2        0      0    0                           0.0   \n",
      "3        4      3  183                           NaN   \n",
      "4        1      2  124                          75.0   \n",
      "\n",
      "   chance_of_playing_this_round  clean_sheets   code  cost_change_event  \\\n",
      "0                          75.0             1  11334                  0   \n",
      "1                           NaN             0  80201                  0   \n",
      "2                           0.0             0  51507                  0   \n",
      "3                           NaN             2  98745                  0   \n",
      "4                         100.0             2  38411                  0   \n",
      "\n",
      "   cost_change_event_fall  cost_change_start     ...       threat  \\\n",
      "0                       0                  0     ...          0.0   \n",
      "1                       0                 -2     ...          0.0   \n",
      "2                       0                 -1     ...          0.0   \n",
      "3                       0                 -1     ...        116.0   \n",
      "4                       0                  0     ...        161.0   \n",
      "\n",
      "  total_points  transfers_in  transfers_in_event  transfers_out  \\\n",
      "0           24         75562                 336          99670   \n",
      "1            7         28215                1977          70312   \n",
      "2            0           487                  28           3927   \n",
      "3           35        226365               32544         410892   \n",
      "4           30        153418                2219          84356   \n",
      "\n",
      "  transfers_out_event value_form  value_season   web_name yellow_cards  \n",
      "0                2747        0.1           4.8       Cech            0  \n",
      "1                1568        0.5           1.5       Leno            0  \n",
      "2                  56        0.0           0.0  Koscielny            0  \n",
      "3                6441        1.2           6.5   Bellerín            1  \n",
      "4               14666        0.7           5.5    Monreal            1  \n",
      "\n",
      "[5 rows x 58 columns]\n"
     ]
    }
   ],
   "source": [
    "# See https://pandas.pydata.org/pandas-docs/stable/generated/pandas.io.json.json_normalize.html\n",
    "df = json_normalize(d['elements'])\n",
    "print('Columns:\\n', list(df), '\\n')\n",
    "print('Dataframe Head:\\n', df.head())"
   ]
  },
  {
   "cell_type": "markdown",
   "metadata": {},
   "source": [
    "You can see that it’s not that difficult to get all the player info we would want from the FPL site! As for teams, that’s just as easy:"
   ]
  },
  {
   "cell_type": "code",
   "execution_count": 142,
   "metadata": {},
   "outputs": [
    {
     "name": "stdout",
     "output_type": "stream",
     "text": [
      "Columns:\n",
      " ['code', 'current_event_fixture', 'draw', 'form', 'id', 'link_url', 'loss', 'name', 'next_event_fixture', 'played', 'points', 'position', 'short_name', 'strength', 'strength_attack_away', 'strength_attack_home', 'strength_defence_away', 'strength_defence_home', 'strength_overall_away', 'strength_overall_home', 'team_division', 'unavailable', 'win'] \n",
      "\n",
      "Dataframe Head:\n",
      "    code                              current_event_fixture  draw  form  id  \\\n",
      "0     3  [{'is_home': True, 'day': 22, 'event_day': 3, ...     0  None   1   \n",
      "1    91  [{'is_home': True, 'day': 20, 'event_day': 1, ...     0  None   2   \n",
      "2    36  [{'is_home': False, 'day': 20, 'event_day': 1,...     0  None   3   \n",
      "3    90  [{'is_home': False, 'day': 20, 'event_day': 1,...     0  None   4   \n",
      "4    97  [{'is_home': True, 'day': 20, 'event_day': 1, ...     0  None   5   \n",
      "\n",
      "  link_url  loss         name  \\\n",
      "0              0      Arsenal   \n",
      "1              0  Bournemouth   \n",
      "2              0     Brighton   \n",
      "3              0      Burnley   \n",
      "4              0      Cardiff   \n",
      "\n",
      "                                  next_event_fixture  played ...   strength  \\\n",
      "0  [{'is_home': False, 'day': 28, 'event_day': 2,...       0 ...          4   \n",
      "1  [{'is_home': False, 'day': 27, 'event_day': 1,...       0 ...          3   \n",
      "2  [{'is_home': True, 'day': 27, 'event_day': 1, ...       0 ...          2   \n",
      "3  [{'is_home': True, 'day': 28, 'event_day': 2, ...       0 ...          3   \n",
      "4  [{'is_home': False, 'day': 27, 'event_day': 1,...       0 ...          2   \n",
      "\n",
      "   strength_attack_away strength_attack_home  strength_defence_away  \\\n",
      "0                  1260                 1240                   1320   \n",
      "1                  1120                 1090                   1200   \n",
      "2                  1080                 1040                   1120   \n",
      "3                  1150                 1040                   1070   \n",
      "4                  1060                 1020                   1030   \n",
      "\n",
      "   strength_defence_home  strength_overall_away  strength_overall_home  \\\n",
      "0                   1270                   1310                   1280   \n",
      "1                   1150                   1170                   1130   \n",
      "2                   1030                   1100                   1040   \n",
      "3                   1040                   1090                   1080   \n",
      "4                   1010                   1050                   1020   \n",
      "\n",
      "   team_division  unavailable  win  \n",
      "0              1        False    0  \n",
      "1              1        False    0  \n",
      "2              1        False    0  \n",
      "3              1        False    0  \n",
      "4              1        False    0  \n",
      "\n",
      "[5 rows x 23 columns]\n"
     ]
    }
   ],
   "source": [
    "df = json_normalize(d['teams'])\n",
    "print('Columns:\\n', list(df), '\\n')\n",
    "print('Dataframe Head:\\n', df.head())"
   ]
  },
  {
   "cell_type": "markdown",
   "metadata": {},
   "source": [
    "If you’ve ever wondered how they get the fixture difficulty ratings, you might find the answer in there. In case you aren’t familiar with how bonus points are calculated, you can take a look at the game settings:"
   ]
  },
  {
   "cell_type": "code",
   "execution_count": 143,
   "metadata": {},
   "outputs": [
    {
     "name": "stdout",
     "output_type": "stream",
     "text": [
      "Columns:\n",
      " ['element_type.1.bps_clean_sheets', 'element_type.1.bps_goals_scored', 'element_type.1.scoring_clean_sheets', 'element_type.1.scoring_goals_conceded', 'element_type.1.scoring_goals_scored', 'element_type.1.squad_max_play', 'element_type.1.squad_min_play', 'element_type.1.squad_select', 'element_type.1.sub_positions_locked', 'element_type.1.ui_shirt_specific', 'element_type.2.bps_clean_sheets', 'element_type.2.bps_goals_scored', 'element_type.2.scoring_clean_sheets', 'element_type.2.scoring_goals_conceded', 'element_type.2.scoring_goals_scored', 'element_type.2.squad_max_play', 'element_type.2.squad_min_play', 'element_type.2.squad_select', 'element_type.3.bps_clean_sheets', 'element_type.3.bps_goals_scored', 'element_type.3.scoring_clean_sheets', 'element_type.3.scoring_goals_conceded', 'element_type.3.scoring_goals_scored', 'element_type.3.squad_max_play', 'element_type.3.squad_min_play', 'element_type.3.squad_select', 'element_type.4.bps_clean_sheets', 'element_type.4.bps_goals_scored', 'element_type.4.scoring_clean_sheets', 'element_type.4.scoring_goals_conceded', 'element_type.4.scoring_goals_scored', 'element_type.4.squad_max_play', 'element_type.4.squad_min_play', 'element_type.4.squad_select', 'game.bps_assists', 'game.bps_attempted_passes_limit', 'game.bps_big_chances_created', 'game.bps_big_chances_missed', 'game.bps_cbi_limit', 'game.bps_clearances_blocks_interceptions', 'game.bps_dribbles', 'game.bps_errors_leading_to_goal', 'game.bps_errors_leading_to_goal_attempt', 'game.bps_fouls', 'game.bps_key_passes', 'game.bps_long_play', 'game.bps_long_play_limit', 'game.bps_offside', 'game.bps_open_play_crosses', 'game.bps_own_goals', 'game.bps_pass_percentage_70', 'game.bps_pass_percentage_80', 'game.bps_pass_percentage_90', 'game.bps_penalties_conceded', 'game.bps_penalties_missed', 'game.bps_penalties_saved', 'game.bps_recoveries', 'game.bps_recoveries_limit', 'game.bps_red_cards', 'game.bps_saves', 'game.bps_short_play', 'game.bps_tackled', 'game.bps_tackles', 'game.bps_target_missed', 'game.bps_winning_goals', 'game.bps_yellow_cards', 'game.cup_start_event_id', 'game.currency_decimal_places', 'game.currency_multiplier', 'game.currency_symbol', 'game.default_formation', 'game.facebook_app_id', 'game.fifa_league_id', 'game.formations.1-2-5-3', 'game.formations.1-3-4-3', 'game.formations.1-3-5-2', 'game.formations.1-4-3-3', 'game.formations.1-4-4-2', 'game.formations.1-4-5-1', 'game.formations.1-5-2-3', 'game.formations.1-5-3-2', 'game.formations.1-5-4-1', 'game.game_timezone', 'game.league_h2h_tiebreak', 'game.league_join_private_max', 'game.league_join_public_max', 'game.league_max_ko_rounds_h2h', 'game.league_points_h2h_draw', 'game.league_points_h2h_lose', 'game.league_points_h2h_win', 'game.league_prefix_public', 'game.league_size_classic_max', 'game.league_size_h2h_max', 'game.photo_base_url', 'game.scoring_assists', 'game.scoring_bonus', 'game.scoring_bps', 'game.scoring_concede_limit', 'game.scoring_creativity', 'game.scoring_ea_index', 'game.scoring_ict_index', 'game.scoring_influence', 'game.scoring_long_play', 'game.scoring_long_play_limit', 'game.scoring_own_goals', 'game.scoring_penalties_missed', 'game.scoring_penalties_saved', 'game.scoring_red_cards', 'game.scoring_saves', 'game.scoring_saves_limit', 'game.scoring_short_play', 'game.scoring_threat', 'game.scoring_yellow_cards', 'game.squad_squadplay', 'game.squad_squadsize', 'game.squad_team_limit', 'game.squad_total_spend', 'game.static_game_url', 'game.support_email_address', 'game.sys_cdn_cache_enabled', 'game.sys_use_event_live_api', 'game.sys_vice_captain_enabled', 'game.transfers_cost', 'game.transfers_limit', 'game.transfers_sell_on_fee', 'game.transfers_type', 'game.ui_el_hide_currency_qi', 'game.ui_el_hide_currency_sy', 'game.ui_element_wrap', 'game.ui_selection_player_limit', 'game.ui_selection_price_gap', 'game.ui_selection_short_team_names', 'game.ui_show_home_away'] \n",
      "\n"
     ]
    }
   ],
   "source": [
    "# The (not so) secret sauce (see https://www.premierleague.com/news/106533)\n",
    "df = json_normalize(d['game-settings'])\n",
    "print('Columns:\\n', list(df), '\\n')"
   ]
  },
  {
   "cell_type": "markdown",
   "metadata": {},
   "source": [
    "As well as the above, there are other links we can access. Here is an example of how to get the standings for a particular league – in this case the overall standings. We could use the function from earlier, but to avoid having to download the JSON file and save it to disk we can use a much shorter piece of code:"
   ]
  },
  {
   "cell_type": "code",
   "execution_count": 144,
   "metadata": {},
   "outputs": [
    {
     "name": "stdout",
     "output_type": "stream",
     "text": [
      "Keys:\n",
      " ['new_entries', 'league', 'standings', 'update_status'] \n",
      "\n",
      "Columns:\n",
      " ['has_next', 'number', 'results'] \n",
      "\n",
      "Dataframe Head:\n",
      "    has_next  number                                            results\n",
      "0      True       1  [{'id': 2856139, 'entry_name': 'FC Teo d'Or', ...\n"
     ]
    }
   ],
   "source": [
    "d = json.loads(requests.get('https://fantasy.premierleague.com/drf/leagues-classic-standings/313').text)\n",
    "print('Keys:\\n', list(d.keys()), '\\n')\n",
    "df = json_normalize(d['standings'])\n",
    "print('Columns:\\n', list(df), '\\n')\n",
    "print('Dataframe Head:\\n', df.head())"
   ]
  },
  {
   "cell_type": "markdown",
   "metadata": {},
   "source": [
    "Hmm, not quite what we were after; the values we want are all inside the ‘results’ column. Instead, we can access the results key directly in json_normalize to parse out the league standings:"
   ]
  },
  {
   "cell_type": "code",
   "execution_count": 145,
   "metadata": {},
   "outputs": [
    {
     "name": "stdout",
     "output_type": "stream",
     "text": [
      "Columns:\n",
      " ['entry', 'entry_name', 'event_total', 'id', 'last_rank', 'league', 'movement', 'own_entry', 'player_name', 'rank', 'rank_sort', 'start_event', 'stop_event', 'total'] \n",
      "\n",
      "Dataframe Head:\n",
      "      entry            entry_name  event_total        id  last_rank  league  \\\n",
      "0   589232           FC Teo d'Or           49   2856139          1     313   \n",
      "1  2557010             InSané FC           51  13987896          2     313   \n",
      "2    64137  Kad Jaganjci Uskisnu           52    302116          5     313   \n",
      "3  2754458          Gary Doherty           53  15214329         16     313   \n",
      "4    53944       2 girls 1 Klopp           48    252757          8     313   \n",
      "\n",
      "  movement  own_entry         player_name  rank  rank_sort  start_event  \\\n",
      "0     same      False  Teodor Steen Luisa     1          1            1   \n",
      "1     same      False  Brayden McCullough     2          2            1   \n",
      "2       up      False  Miroslav Milošević     3          3            1   \n",
      "3       up      False      Sam Wilmshurst     4          4            1   \n",
      "4       up      False          Jason Mann     5          5            1   \n",
      "\n",
      "   stop_event  total  \n",
      "0          38    698  \n",
      "1          38    691  \n",
      "2          38    685  \n",
      "3          38    676  \n",
      "4          38    676  \n"
     ]
    }
   ],
   "source": [
    "# See json_normalize documentation for further info\n",
    "df = json_normalize(d['standings'], 'results')\n",
    "print('Columns:\\n', list(df), '\\n')\n",
    "print('Dataframe Head:\\n', df.head())"
   ]
  },
  {
   "cell_type": "markdown",
   "metadata": {},
   "source": [
    "As far as team names go this is a bit of a poor effort in my opinion! You can also see the data for your own team if you like by using the code below:"
   ]
  },
  {
   "cell_type": "code",
   "execution_count": 146,
   "metadata": {},
   "outputs": [
    {
     "name": "stdout",
     "output_type": "stream",
     "text": [
      "Keys:\n",
      " ['entry', 'leagues'] \n",
      "\n",
      "Columns:\n",
      " ['bank', 'current_event', 'deleted', 'email', 'event_transfers', 'event_transfers_cost', 'extra_free_transfers', 'favourite_team', 'id', 'joined_seconds', 'joined_time', 'kit', 'name', 'player', 'player_first_name', 'player_last_name', 'player_region_id', 'player_region_name', 'player_region_short_iso', 'started_event', 'strategy', 'summary_event_points', 'summary_event_rank', 'summary_overall_points', 'summary_overall_rank', 'total_loans', 'total_loans_active', 'total_transfers', 'transfers_or_loans', 'value'] \n",
      "\n",
      "Dataframe Head:\n",
      "    bank  current_event  deleted  email  event_transfers  event_transfers_cost  \\\n",
      "0    14              9    False  False                0                     0   \n",
      "\n",
      "   extra_free_transfers  favourite_team       id  joined_seconds  ...    \\\n",
      "0                     0              13  5746258           85556  ...     \n",
      "\n",
      "  strategy summary_event_points summary_event_rank  summary_overall_points  \\\n",
      "0     None                   27            5387632                      27   \n",
      "\n",
      "  summary_overall_rank total_loans  total_loans_active total_transfers  \\\n",
      "0              5732273           0                   0               0   \n",
      "\n",
      "  transfers_or_loans  value  \n",
      "0          transfers    995  \n",
      "\n",
      "[1 rows x 30 columns]\n"
     ]
    }
   ],
   "source": [
    "d = json.loads(requests.get('https://fantasy.premierleague.com/drf/entry/5746258').text)\n",
    "print('Keys:\\n', list(d.keys()), '\\n')\n",
    "df = json_normalize(d['entry'])\n",
    "print('Columns:\\n', list(df), '\\n')\n",
    "print('Dataframe Head:\\n', df.head())"
   ]
  },
  {
   "cell_type": "markdown",
   "metadata": {},
   "source": [
    "You will notice that my team is terrible! I actually didn’t play FPL this season, so this is just a random team I made to allow me to write this article. When FantasyBet were offering a real-money version with only 3808 entries it was hard to get excited for the free game, especially when the prize-pool looks like this:\n",
    "\n",
    "![fantasybet](http://www.fantasyfutopia.com/wp-content/uploads/2018/10/fantasybet-prizepool.png)\n",
    "\n",
    "If you missed it, don’t worry! [FantasyBet](https://record.affiliates.fantasybet.com/_shfBFIGxLsPUOsjNOfgKeZKZ26VHNjHp/1/) also offer daily fantasy games where you can pick a team for just one gameweek and compete for cash prizes. Make sure to check them out if you haven't already!\n",
    "\n",
    "## FPL Mini-League Ownership\n",
    "Accessing the data is just the tip of the iceberg, and people have already made some pretty cool Python scripts to do all sorts of things using the API. For example, see [here](https://github.com/spinach/FantasyPremierLeague-Api.py/tree/python3) for a script that allows you to find out captain choices and overall player ownership for a specific gameweek in any mini-league! I actually edited the script slightly to clean up the player names and automatically calculate ownership percentages; you can find it on my GitHub [here](https://github.com/twhelan22/FantasyPremierLeague-Api.py). You can run this script from the command line as suggested in the readme, or alternatively you can run a script inside a Jupyter notebook using the method below:"
   ]
  },
  {
   "cell_type": "code",
   "execution_count": 130,
   "metadata": {},
   "outputs": [
    {
     "name": "stdout",
     "output_type": "stream",
     "text": [
      "classic league mode\n",
      "parsing pageCount: 1 with total number of players so far: 50\n",
      "parsing pageCount: 2 with total number of players so far: 100\n",
      "parsing pageCount: 3 with total number of players so far: 150\n",
      "parsing pageCount: 4 with total number of players so far: 200\n",
      "parsing pageCount: 5 with total number of players so far: 250\n",
      "parsing pageCount: 6 with total number of players so far: 300\n",
      "parsing pageCount: 7 with total number of players so far: 350\n",
      "parsing pageCount: 8 with total number of players so far: 400\n",
      "parsing pageCount: 9 with total number of players so far: 450\n",
      "parsing pageCount: 10 with total number of players so far: 500\n",
      "parsing pageCount: 11 with total number of players so far: 550\n",
      "parsing pageCount: 12 with total number of players so far: 600\n",
      "parsing pageCount: 13 with total number of players so far: 650\n",
      "parsing pageCount: 14 with total number of players so far: 700\n",
      "parsing pageCount: 15 with total number of players so far: 750\n",
      "parsing pageCount: 16 with total number of players so far: 800\n",
      "parsing pageCount: 17 with total number of players so far: 850\n",
      "parsing pageCount: 18 with total number of players so far: 900\n",
      "parsing pageCount: 19 with total number of players so far: 950\n",
      "parsing pageCount: 20 with total number of players so far: 1000\n",
      "parsing pageCount: 21 with total number of players so far: 1050\n",
      "parsing pageCount: 22 with total number of players so far: 1100\n",
      "parsing pageCount: 23 with total number of players so far: 1150\n",
      "parsing pageCount: 24 with total number of players so far: 1200\n",
      "parsing pageCount: 25 with total number of players so far: 1250\n",
      "parsing pageCount: 26 with total number of players so far: 1300\n",
      "parsing pageCount: 27 with total number of players so far: 1318\n",
      "no more standings found!\n",
      "breaking as no more player entries\n"
     ]
    }
   ],
   "source": [
    "# Note that this code might not work if you aren't in this league... I suggest replacing the league ID with one of your own mini-leagues\n",
    "# If you pick a league with lots of players, this will take a while!\n",
    "import os\n",
    "filepath='C:/Users/Tom/Python/36/FantasyPremierLeague-Api.py-python3'\n",
    "# Change directory to the filepath\n",
    "os.chdir(filepath)\n",
    "# Run Python script with specified paramaters\n",
    "%run playersPickedInLeague.py --league 14226 --gameweek 9 --type classic"
   ]
  },
  {
   "cell_type": "markdown",
   "metadata": {},
   "source": [
    "The script will create two csv files in the same directory, one with captain ownership and another with overall player ownership for the particular gameweek. As a side note, if you haven’t already checked out the [FISO forums](http://fiso.co.uk/forum/viewforum.php?f=18), they are a great resource for fantasy football, particularly FPL. If you load the files you will see a breakdown of ownership percentages for the FISO forum mini-league in gameweek 9:"
   ]
  },
  {
   "cell_type": "code",
   "execution_count": 132,
   "metadata": {},
   "outputs": [
    {
     "name": "stdout",
     "output_type": "stream",
     "text": [
      "The FISO forum mini-league captains, GW9:\n",
      "               name  count   percent\n",
      "0    Sergio Aguero    808  0.613050\n",
      "1       Harry Kane    112  0.084977\n",
      "2    Mohamed Salah     96  0.072838\n",
      "3      Eden Hazard     77  0.058422\n",
      "4  Raheem Sterling     54  0.040971 \n",
      "\n",
      "The FISO forum mini-league player ownership, GW9:\n",
      "                      name  count   percent\n",
      "0             Eden Hazard   1077  0.817147\n",
      "1       Aaron Wan-Bissaka   1021  0.774659\n",
      "2           Sergio Aguero    966  0.732929\n",
      "3           Marcos Alonso    865  0.656297\n",
      "4  Richarlison de Andrade    672  0.509863\n"
     ]
    }
   ],
   "source": [
    "# Note that you will need to update the league id and gw number here to match your input paramaters\n",
    "captain = pd.read_csv(filepath + '/captain_14226_gw9.csv')\n",
    "picked = pd.read_csv(filepath + '/picked_14226_gw9.csv')\n",
    "\n",
    "print('The FISO forum mini-league captains, GW9:\\n', captain.head(), '\\n')\n",
    "print('The FISO forum mini-league player ownership, GW9:\\n', picked.head())"
   ]
  },
  {
   "cell_type": "code",
   "execution_count": 139,
   "metadata": {},
   "outputs": [
    {
     "data": {
      "image/png": "[encoded data removed]",
      "text/plain": [
       "<matplotlib.figure.Figure at 0x1f19587a780>"
      ]
     },
     "metadata": {},
     "output_type": "display_data"
    }
   ],
   "source": [
    "# Plot the top 20 owned players\n",
    "sns.set(style='whitegrid')\n",
    "sns.set_color_codes('muted')\n",
    "f, ax = plt.subplots(figsize=(12, 10))\n",
    "sns.barplot(x='percent', y='name', data=picked.head(20), color='b')\n",
    "ax.set(ylabel='', xlabel='FISO mini-league ownership percentage (top 20)')\n",
    "sns.despine(left=True, bottom=True)"
   ]
  },
  {
   "cell_type": "markdown",
   "metadata": {},
   "source": [
    "## Conclusion\n",
    "That’s it for now! Hopefully the last part of the article has given you some ideas of the things you could create using the FPL API. Make sure to share any tools or visualisations in the comments here, or on Twitter [@FantasyFutopia](http://www.twitter.com/FantasyFutopia) or [@tom_whelan](http://www.twitter.com/tom_whelan)! The next part might take a little bit longer to write, but hopefully the wait will be worth it! I’ll be publishing the first of several articles on machine learning, looking at how you can create your own xG models in Python.\n",
    "\n",
    "If you enjoyed the article, please don’t forget to share it on social media – it really helps!"
   ]
  },
  {
   "cell_type": "code",
   "execution_count": null,
   "metadata": {},
   "outputs": [],
   "source": []
  }
 ],
 "metadata": {
  "kernelspec": {
   "display_name": "Python 3",
   "language": "python",
   "name": "python3"
  },
  "language_info": {
   "codemirror_mode": {
    "name": "ipython",
    "version": 3
   },
   "file_extension": ".py",
   "mimetype": "text/x-python",
   "name": "python",
   "nbconvert_exporter": "python",
   "pygments_lexer": "ipython3",
   "version": "3.6.4"
  }
 },
 "nbformat": 4,
 "nbformat_minor": 2
}
